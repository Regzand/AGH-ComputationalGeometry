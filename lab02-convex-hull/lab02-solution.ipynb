{
 "cells": [
  {
   "cell_type": "markdown",
   "metadata": {},
   "source": [
    "### Imports"
   ]
  },
  {
   "cell_type": "code",
   "execution_count": 1,
   "metadata": {},
   "outputs": [],
   "source": [
    "import math\n",
    "from itertools import product\n",
    "from functools import partial\n",
    "\n",
    "import numpy as np\n",
    "import pandas as p\n",
    "import matplotlib.pyplot as plt\n",
    "from matplotlib.collections import LineCollection\n",
    "from matplotlib.colors import to_rgba"
   ]
  },
  {
   "cell_type": "markdown",
   "metadata": {},
   "source": [
    "### Utility functions "
   ]
  },
  {
   "cell_type": "code",
   "execution_count": 2,
   "metadata": {},
   "outputs": [],
   "source": [
    "def plot_points(points, addnotations = [], **kwargs):\n",
    "    # plot points\n",
    "    if len(points):\n",
    "        plt.scatter(*zip(*points), **kwargs)\n",
    "    \n",
    "    # plot addnotations\n",
    "    for p, text in zip(points, addnotations):\n",
    "        plt.annotate(text, p, (5, 5), textcoords='offset pixels')\n",
    "\n",
    "def plot_segments(segments, colors = None, zorder=1, **kwargs):\n",
    "    # handle colors conversion\n",
    "    if isinstance(colors, list):\n",
    "        colors = [to_rgba(c) for c in colors]\n",
    "    elif colors is not None:\n",
    "        colors = [to_rgba(colors)] * len(segments)\n",
    "    \n",
    "    # plot segments using collection for better performance\n",
    "    plt.gca().add_collection(LineCollection(segments, colors=colors, zorder=zorder, **kwargs))\n",
    "\n",
    "def plot_chain(points, closed=False, **kwargs):\n",
    "    # create segments\n",
    "    segments = [\n",
    "        (points[i-1], points[i])\n",
    "        for i in range(1, len(points))\n",
    "    ]\n",
    "    \n",
    "    # close loop if requested\n",
    "    if closed:\n",
    "        segments.append((points[-1], points[0]))\n",
    "    \n",
    "    plot_segments(segments, **kwargs)"
   ]
  },
  {
   "cell_type": "code",
   "execution_count": 3,
   "metadata": {},
   "outputs": [],
   "source": [
    "def random_points_plane(n, low, high):\n",
    "    return np.random.uniform(low=low, high=high, size=(n, 2))\n",
    "\n",
    "def orient(a, b, c):\n",
    "    return np.linalg.det(np.vstack((a - c, b - c)))\n",
    "\n",
    "def angle(a, b):\n",
    "    d = b - a\n",
    "    return np.arctan2(d[1], d[0])"
   ]
  },
  {
   "cell_type": "markdown",
   "metadata": {},
   "source": [
    "### Graham's scan"
   ]
  },
  {
   "cell_type": "code",
   "execution_count": 4,
   "metadata": {},
   "outputs": [],
   "source": [
    "def convex_hull_graham(points):\n",
    "    \n",
    "    # find first point\n",
    "    i0 = 0\n",
    "    for i in range(1, points.shape[0]):\n",
    "        if points[i,1] < points[i0,1] or (points[i,1] == points[i0,1] and points[i,0] < points[i0,0]):\n",
    "            i0 = i\n",
    "    p0 = points[i0]\n",
    "    \n",
    "    # calcualte angles\n",
    "    angles = np.apply_along_axis(partial(angle, p0), 1, points)\n",
    "    \n",
    "    # sort points by angles\n",
    "    points = points[angles.argsort()]\n",
    "    \n",
    "    # initialize stack\n",
    "    hull = [*points[:3]]\n",
    "    \n",
    "    # main loop\n",
    "    i = 3\n",
    "    while i < points.shape[0]:\n",
    "        if orient(hull[-2], hull[-1], points[i]) > 0:\n",
    "            hull.append(points[i])\n",
    "            i += 1\n",
    "        else:\n",
    "            hull.pop()\n",
    "    \n",
    "    return hull"
   ]
  },
  {
   "cell_type": "markdown",
   "metadata": {},
   "source": [
    "#### Example"
   ]
  },
  {
   "cell_type": "code",
   "execution_count": 5,
   "metadata": {},
   "outputs": [],
   "source": [
    "points = random_points_plane(20, -100, 100)"
   ]
  },
  {
   "cell_type": "code",
   "execution_count": 6,
   "metadata": {},
   "outputs": [
    {
     "data": {
      "image/png": "[encoded data removed]",
      "text/plain": [
       "<Figure size 432x288 with 1 Axes>"
      ]
     },
     "metadata": {
      "needs_background": "light"
     },
     "output_type": "display_data"
    }
   ],
   "source": [
    "plot_chain(convex_hull_graham(points), closed=True, colors='r')\n",
    "plot_points(points)"
   ]
  },
  {
   "cell_type": "code",
   "execution_count": null,
   "metadata": {},
   "outputs": [],
   "source": []
  }
 ],
 "metadata": {
  "kernelspec": {
   "display_name": "Python 3",
   "language": "python",
   "name": "python3"
  },
  "language_info": {
   "codemirror_mode": {
    "name": "ipython",
    "version": 3
   },
   "file_extension": ".py",
   "mimetype": "text/x-python",
   "name": "python",
   "nbconvert_exporter": "python",
   "pygments_lexer": "ipython3",
   "version": "3.7.4"
  },
  "toc": {
   "base_numbering": 1,
   "nav_menu": {},
   "number_sections": true,
   "sideBar": true,
   "skip_h1_title": true,
   "title_cell": "Table of Contents",
   "title_sidebar": "Contents",
   "toc_cell": false,
   "toc_position": {},
   "toc_section_display": true,
   "toc_window_display": true
  },
  "varInspector": {
   "cols": {
    "lenName": 16,
    "lenType": 16,
    "lenVar": 40
   },
   "kernels_config": {
    "python": {
     "delete_cmd_postfix": "",
     "delete_cmd_prefix": "del ",
     "library": "var_list.py",
     "varRefreshCmd": "print(var_dic_list())"
    },
    "r": {
     "delete_cmd_postfix": ") ",
     "delete_cmd_prefix": "rm(",
     "library": "var_list.r",
     "varRefreshCmd": "cat(var_dic_list()) "
    }
   },
   "types_to_exclude": [
    "module",
    "function",
    "builtin_function_or_method",
    "instance",
    "_Feature"
   ],
   "window_display": false
  }
 },
 "nbformat": 4,
 "nbformat_minor": 2
}
