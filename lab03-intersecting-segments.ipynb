{
 "cells": [
  {
   "cell_type": "markdown",
   "metadata": {},
   "source": [
    "### Imports"
   ]
  },
  {
   "cell_type": "code",
   "execution_count": 73,
   "metadata": {},
   "outputs": [
    {
     "name": "stdout",
     "output_type": "stream",
     "text": [
      "The autoreload extension is already loaded. To reload it, use:\n",
      "  %reload_ext autoreload\n"
     ]
    }
   ],
   "source": [
    "%load_ext autoreload\n",
    "%autoreload 1\n",
    "%aimport code.generation\n",
    "%aimport code.visualization\n",
    "%aimport code.geometry\n",
    "%aimport code.animations\n",
    "\n",
    "import timeit\n",
    "import heapq\n",
    "\n",
    "import numpy as np\n",
    "import pandas as pd\n",
    "import matplotlib.pyplot as plt\n",
    "\n",
    "import code.generation as gen\n",
    "import code.visualization as vis\n",
    "import code.geometry as geo\n",
    "import code.animations as ani"
   ]
  },
  {
   "cell_type": "markdown",
   "metadata": {},
   "source": [
    "### Segments generation"
   ]
  },
  {
   "cell_type": "code",
   "execution_count": 100,
   "metadata": {},
   "outputs": [],
   "source": [
    "segments = gen.random_segments_plane(4, np.array([-100, -100]), np.array([100, 100]))"
   ]
  },
  {
   "cell_type": "code",
   "execution_count": 101,
   "metadata": {},
   "outputs": [
    {
     "data": {
      "image/png": "[encoded data removed]",
      "text/plain": [
       "<Figure size 432x288 with 1 Axes>"
      ]
     },
     "metadata": {},
     "output_type": "display_data"
    }
   ],
   "source": [
    "vis.plot_segments(segments)"
   ]
  },
  {
   "cell_type": "markdown",
   "metadata": {},
   "source": [
    "### Sweep line algorithm"
   ]
  },
  {
   "cell_type": "code",
   "execution_count": 98,
   "metadata": {},
   "outputs": [],
   "source": [
    "def find_segments_intersections(segments):\n",
    "    # segments to list and tuples\n",
    "    segments = [(tuple(a), tuple(b)) for a, b in segments]\n",
    "    \n",
    "    # create queue and state structure\n",
    "    Q = []\n",
    "    T = []\n",
    "    \n",
    "    # add top-most points of segments to queue\n",
    "    for seg in segments:\n",
    "        heapq.heappush(Q, (-max(seg[0][1], seg[1][1]), seg))\n",
    "    \n",
    "    # main loop\n",
    "    while Q:\n",
    "        \n",
    "        # get top-most point from queue\n",
    "        _, p = heapq.heappop(Q)\n",
    "    \n",
    "    \n",
    "    return segments"
   ]
  },
  {
   "cell_type": "code",
   "execution_count": 99,
   "metadata": {},
   "outputs": [
    {
     "data": {
      "text/plain": [
       "[((14.559591479489768, -91.56911021543723),\n",
       "  (-88.78280159365428, -68.95391649692158)),\n",
       " ((-29.56820632178217, -5.74896887582139),\n",
       "  (-83.69016597248236, -9.76566856082161)),\n",
       " ((47.42756936734756, -70.00461922078867),\n",
       "  (-11.93500565813872, 21.729122499232318)),\n",
       " ((6.224623133015925, -48.06149033036198),\n",
       "  (-81.06152012255342, 13.600104275253713))]"
      ]
     },
     "execution_count": 99,
     "metadata": {},
     "output_type": "execute_result"
    }
   ],
   "source": [
    "find_segments_intersections(segments)"
   ]
  },
  {
   "cell_type": "code",
   "execution_count": 97,
   "metadata": {},
   "outputs": [
    {
     "data": {
      "text/plain": [
       "False"
      ]
     },
     "execution_count": 97,
     "metadata": {},
     "output_type": "execute_result"
    }
   ],
   "source": [
    "tuple(segments[0][0]) == (3,4)"
   ]
  },
  {
   "cell_type": "code",
   "execution_count": null,
   "metadata": {},
   "outputs": [],
   "source": [
    "p1 == p2"
   ]
  }
 ],
 "metadata": {
  "kernelspec": {
   "display_name": "Python 3",
   "language": "python",
   "name": "python3"
  },
  "language_info": {
   "codemirror_mode": {
    "name": "ipython",
    "version": 3
   },
   "file_extension": ".py",
   "mimetype": "text/x-python",
   "name": "python",
   "nbconvert_exporter": "python",
   "pygments_lexer": "ipython3",
   "version": "3.7.0"
  }
 },
 "nbformat": 4,
 "nbformat_minor": 2
}
